{
 "cells": [
  {
   "cell_type": "code",
   "execution_count": 1,
   "id": "rapid-independence",
   "metadata": {},
   "outputs": [],
   "source": [
    "import os\n",
    "\n",
    "import pandas as pd\n",
    "import numpy as np\n",
    "import matplotlib.pyplot as plt\n",
    "\n",
    "from nltk.corpus import stopwords\n",
    "from nltk.stem import PorterStemmer\n",
    "\n",
    "import treelib\n",
    "\n",
    "from collections import Counter, defaultdict\n",
    "\n",
    "import arxiv_tag_lib as at"
   ]
  },
  {
   "cell_type": "markdown",
   "id": "radical-integration",
   "metadata": {},
   "source": [
    "# ArXiv Tagger\n",
    "\n",
    "Description of the project goes here...\n",
    "\n",
    "## Database creation\n",
    "\n",
    "Here we use the Nature metadata dataset to get the abstracts and keywords of the papers published on the publisher journal.\n",
    "\n",
    "Since this is a proof of principle project, we focus on a small part of all possible paper, namely those with a keyword contianing *field theory*, as the dataset seems to contain a moderate amount of these articles."
   ]
  },
  {
   "cell_type": "code",
   "execution_count": 3,
   "id": "coastal-playlist",
   "metadata": {},
   "outputs": [],
   "source": [
    "# Set the API key for accessing the database\n",
    "api_key = os.environ['SPRINGER_API_KEY']\n",
    "\n",
    "# Create the query and the dataset\n",
    "query = {'type':'Journal','keyword':\"field theory\"}\n",
    "df = at.create_dataframe(query,api_key)\n",
    "df.to_pickle('./dataset_field_theory.pkl')"
   ]
  },
  {
   "cell_type": "markdown",
   "id": "hollow-black",
   "metadata": {},
   "source": [
    "## Selecting the labels\n",
    "\n",
    "Contrary to how APS Journals work, the keywords used on Nature are not taken from a pre-defined set, and instead are assigned by the authors. A drowback of this is that there will be many different keywords and we'd like to select the most common to create the labels for our dataset.\n",
    "\n",
    "### Cleaning the keywords\n",
    "\n",
    "Let's start by cleaning up the keywords and getting an idea of the most common ones,"
   ]
  },
  {
   "cell_type": "code",
   "execution_count": 2,
   "id": "written-consent",
   "metadata": {},
   "outputs": [
    {
     "data": {
      "text/html": [
       "<div>\n",
       "<style scoped>\n",
       "    .dataframe tbody tr th:only-of-type {\n",
       "        vertical-align: middle;\n",
       "    }\n",
       "\n",
       "    .dataframe tbody tr th {\n",
       "        vertical-align: top;\n",
       "    }\n",
       "\n",
       "    .dataframe thead th {\n",
       "        text-align: right;\n",
       "    }\n",
       "</style>\n",
       "<table border=\"1\" class=\"dataframe\">\n",
       "  <thead>\n",
       "    <tr style=\"text-align: right;\">\n",
       "      <th></th>\n",
       "      <th>abstract</th>\n",
       "      <th>keywords</th>\n",
       "    </tr>\n",
       "  </thead>\n",
       "  <tbody>\n",
       "    <tr>\n",
       "      <th>18063</th>\n",
       "      <td>The LSZ asymptotic condition and the Yang-Feld...</td>\n",
       "      <td>[Neural Network, Statistical Physic, Field The...</td>\n",
       "    </tr>\n",
       "    <tr>\n",
       "      <th>18064</th>\n",
       "      <td>The mathematical formalism describing the Bose...</td>\n",
       "      <td>[Neural Network, Field Theory, Quantum Field T...</td>\n",
       "    </tr>\n",
       "    <tr>\n",
       "      <th>18065</th>\n",
       "      <td>We want to construct, for every local irreduci...</td>\n",
       "      <td>[Neural Network, Statistical Physic, Field The...</td>\n",
       "    </tr>\n",
       "    <tr>\n",
       "      <th>18066</th>\n",
       "      <td>It is proved that if the n -point correlation ...</td>\n",
       "      <td>[Neural Network, Statistical Physic, Field The...</td>\n",
       "    </tr>\n",
       "    <tr>\n",
       "      <th>18067</th>\n",
       "      <td>Electromagnetic tensor field can be divided in...</td>\n",
       "      <td>[Null Vector, Unify Field Theory, Electromagne...</td>\n",
       "    </tr>\n",
       "  </tbody>\n",
       "</table>\n",
       "</div>"
      ],
      "text/plain": [
       "                                                abstract  \\\n",
       "18063  The LSZ asymptotic condition and the Yang-Feld...   \n",
       "18064  The mathematical formalism describing the Bose...   \n",
       "18065  We want to construct, for every local irreduci...   \n",
       "18066  It is proved that if the n -point correlation ...   \n",
       "18067  Electromagnetic tensor field can be divided in...   \n",
       "\n",
       "                                                keywords  \n",
       "18063  [Neural Network, Statistical Physic, Field The...  \n",
       "18064  [Neural Network, Field Theory, Quantum Field T...  \n",
       "18065  [Neural Network, Statistical Physic, Field The...  \n",
       "18066  [Neural Network, Statistical Physic, Field The...  \n",
       "18067  [Null Vector, Unify Field Theory, Electromagne...  "
      ]
     },
     "execution_count": 2,
     "metadata": {},
     "output_type": "execute_result"
    }
   ],
   "source": [
    "df = pd.read_pickle('./dataset_field_theory.pkl')\n",
    "\n",
    "# Some paper have only one keyword that is saved outside a list\n",
    "df['keywords'] = df['keywords'].apply(lambda item : [item] if type(item) == str else item)\n",
    "\n",
    "df.tail()"
   ]
  },
  {
   "cell_type": "markdown",
   "id": "nuclear-disorder",
   "metadata": {},
   "source": [
    "The number of different keywords is large, as we can see here,"
   ]
  },
  {
   "cell_type": "code",
   "execution_count": 3,
   "id": "moved-scotland",
   "metadata": {},
   "outputs": [
    {
     "data": {
      "text/plain": [
       "10765"
      ]
     },
     "execution_count": 3,
     "metadata": {},
     "output_type": "execute_result"
    }
   ],
   "source": [
    "tags = np.concatenate(df['keywords'].to_numpy())\n",
    "unique_tags = np.unique(tags)\n",
    "\n",
    "unique_tags.size"
   ]
  },
  {
   "cell_type": "markdown",
   "id": "spanish-reflection",
   "metadata": {},
   "source": [
    "We might be able to slightly reduce the tags if we clean them up\n",
    "- set in lowercase\n",
    "- neglect non-alphanumeric words\n",
    "- stem and remove stopwords\n",
    "\n",
    "Then we get,"
   ]
  },
  {
   "cell_type": "code",
   "execution_count": 4,
   "id": "nonprofit-wyoming",
   "metadata": {},
   "outputs": [
    {
     "data": {
      "text/html": [
       "<div>\n",
       "<style scoped>\n",
       "    .dataframe tbody tr th:only-of-type {\n",
       "        vertical-align: middle;\n",
       "    }\n",
       "\n",
       "    .dataframe tbody tr th {\n",
       "        vertical-align: top;\n",
       "    }\n",
       "\n",
       "    .dataframe thead th {\n",
       "        text-align: right;\n",
       "    }\n",
       "</style>\n",
       "<table border=\"1\" class=\"dataframe\">\n",
       "  <thead>\n",
       "    <tr style=\"text-align: right;\">\n",
       "      <th></th>\n",
       "      <th>abstract</th>\n",
       "      <th>keywords</th>\n",
       "    </tr>\n",
       "  </thead>\n",
       "  <tbody>\n",
       "    <tr>\n",
       "      <th>18063</th>\n",
       "      <td>The LSZ asymptotic condition and the Yang-Feld...</td>\n",
       "      <td>[neural network, statist physic, field theori,...</td>\n",
       "    </tr>\n",
       "    <tr>\n",
       "      <th>18064</th>\n",
       "      <td>The mathematical formalism describing the Bose...</td>\n",
       "      <td>[neural network, field theori, quantum field t...</td>\n",
       "    </tr>\n",
       "    <tr>\n",
       "      <th>18065</th>\n",
       "      <td>We want to construct, for every local irreduci...</td>\n",
       "      <td>[neural network, statist physic, field theori,...</td>\n",
       "    </tr>\n",
       "    <tr>\n",
       "      <th>18066</th>\n",
       "      <td>It is proved that if the n -point correlation ...</td>\n",
       "      <td>[neural network, statist physic, field theori,...</td>\n",
       "    </tr>\n",
       "    <tr>\n",
       "      <th>18067</th>\n",
       "      <td>Electromagnetic tensor field can be divided in...</td>\n",
       "      <td>[null vector, unifi field theori, electromagne...</td>\n",
       "    </tr>\n",
       "  </tbody>\n",
       "</table>\n",
       "</div>"
      ],
      "text/plain": [
       "                                                abstract  \\\n",
       "18063  The LSZ asymptotic condition and the Yang-Feld...   \n",
       "18064  The mathematical formalism describing the Bose...   \n",
       "18065  We want to construct, for every local irreduci...   \n",
       "18066  It is proved that if the n -point correlation ...   \n",
       "18067  Electromagnetic tensor field can be divided in...   \n",
       "\n",
       "                                                keywords  \n",
       "18063  [neural network, statist physic, field theori,...  \n",
       "18064  [neural network, field theori, quantum field t...  \n",
       "18065  [neural network, statist physic, field theori,...  \n",
       "18066  [neural network, statist physic, field theori,...  \n",
       "18067  [null vector, unifi field theori, electromagne...  "
      ]
     },
     "execution_count": 4,
     "metadata": {},
     "output_type": "execute_result"
    }
   ],
   "source": [
    "# Select the stemmer and the corpus of stopwords\n",
    "ps = PorterStemmer()\n",
    "stp_en = stopwords.words('english')\n",
    "\n",
    "# clean the tags\n",
    "df['keywords'] = df['keywords'].apply(lambda item : at.clean_tags(item,ps,stp_en))\n",
    "df.tail()"
   ]
  },
  {
   "cell_type": "markdown",
   "id": "certified-pavilion",
   "metadata": {},
   "source": [
    "Let's check if we have indeed reduced a bit the number of tags,"
   ]
  },
  {
   "cell_type": "code",
   "execution_count": 5,
   "id": "tight-invalid",
   "metadata": {},
   "outputs": [
    {
     "data": {
      "text/plain": [
       "9404"
      ]
     },
     "execution_count": 5,
     "metadata": {},
     "output_type": "execute_result"
    }
   ],
   "source": [
    "tags = np.concatenate(df['keywords'].to_numpy())\n",
    "unique_tags = np.unique(tags)\n",
    "\n",
    "unique_tags.size"
   ]
  },
  {
   "cell_type": "markdown",
   "id": "stainless-coast",
   "metadata": {},
   "source": [
    "Let's check the most common tags, to get an idea of what we are dealing with,"
   ]
  },
  {
   "cell_type": "code",
   "execution_count": 6,
   "id": "perfect-professor",
   "metadata": {
    "scrolled": false
   },
   "outputs": [
    {
     "data": {
      "text/plain": [
       "[('field theori', 10159),\n",
       " ('elementari particl', 8981),\n",
       " ('quantum field theori', 8967),\n",
       " ('particl acceler', 1976),\n",
       " ('conform field theori', 1330),\n",
       " ('spectroscopi', 1257),\n",
       " ('effect field theori', 1118),\n",
       " ('state physic', 1077),\n",
       " ('ad cft correspond', 1053),\n",
       " ('field theori lower dimens', 872)]"
      ]
     },
     "execution_count": 6,
     "metadata": {},
     "output_type": "execute_result"
    }
   ],
   "source": [
    "tags = np.concatenate(df['keywords'].to_numpy())\n",
    "tags_frequency = Counter(tags)\n",
    "\n",
    "tags_frequency.most_common(10)"
   ]
  },
  {
   "cell_type": "markdown",
   "id": "insured-stupid",
   "metadata": {},
   "source": [
    "It is clear that the first 3 tags (maybe even the 4th one) are a bit too general and we can probably remove them, since a lot of stuff falls broadly under these tags.\n",
    "\n",
    "### Creating a hierarchy of tags\n",
    "\n",
    "We now search for the important tags, and will restrict our dataset to the items that contains these tags. We do this by creating a tree of tags.\n",
    "\n",
    "We can additionally use the hierarchical nature of how tags are assigned in the Nature dataset to only focus on the leafs of the tree and label the corresponding items with their tag.\n",
    "\n",
    "**NOTE**: We move from a multi-label dataset to a multi-class one. This is not necessarily desirable and maybe in the future we'll try to go for a multi-label problem. For now, we try this approach to see how well we can still classify papers."
   ]
  },
  {
   "cell_type": "code",
   "execution_count": 7,
   "id": "printable-farmer",
   "metadata": {},
   "outputs": [
    {
     "name": "stdout",
     "output_type": "stream",
     "text": [
      "root\n",
      "├── conform field theori\n",
      "│   └── ad cft correspond\n",
      "├── dualiti gaug field theori\n",
      "├── effect field theori\n",
      "│   └── beyond standard model\n",
      "├── field theori higher dimens\n",
      "├── field theori lower dimens\n",
      "├── gaug theori\n",
      "├── integr field theori\n",
      "│   └── ad cft correspond\n",
      "├── neural network\n",
      "│   └── complex system\n",
      "│       └── statist physic\n",
      "├── quantum mechan\n",
      "└── spectroscopi\n",
      "    └── state physic\n",
      "\n"
     ]
    }
   ],
   "source": [
    "# Create the tags tree\n",
    "tags_tree = treelib.Tree()\n",
    "\n",
    "# List of tags to avoid (too many items link to them)\n",
    "avoid_tags=['field theori','elementari particl','quantum field theori','particl acceler']\n",
    "\n",
    "# Create the root node of the tree and build it\n",
    "root = tags_tree.create_node('root',data=df.copy())\n",
    "at.build_tag_tree(tags_tree,root.identifier,avoid_tags,min_size=250)\n",
    "\n",
    "# Show the tree\n",
    "tags_tree.show()"
   ]
  },
  {
   "cell_type": "markdown",
   "id": "thirty-canon",
   "metadata": {},
   "source": [
    "Let's visualize the size of each class, to see if the problem is balanced or not,"
   ]
  },
  {
   "cell_type": "code",
   "execution_count": 9,
   "id": "capital-senegal",
   "metadata": {},
   "outputs": [
    {
     "name": "stdout",
     "output_type": "stream",
     "text": [
      "We use 9 tags, for a grand total of 4696 items.\n"
     ]
    },
    {
     "data": {
      "image/png": "[encoded data removed]",
      "text/plain": [
       "<Figure size 432x288 with 1 Axes>"
      ]
     },
     "metadata": {
      "needs_background": "light"
     },
     "output_type": "display_data"
    }
   ],
   "source": [
    "# Get the size of each class and the total size of the dataset we'll be left with\n",
    "size_tag = defaultdict(int)\n",
    "total_items = 0\n",
    "\n",
    "for node in tags_tree.leaves():\n",
    "    size_tag[node.tag] += node.data.shape[0]\n",
    "    total_items += node.data.shape[0]\n",
    "    \n",
    "tags_number = len(size_tag)\n",
    "\n",
    "print('We use {} tags, for a grand total of {} items.'.format(tags_number,total_items))\n",
    "\n",
    "# Visualize the classes size\n",
    "plt.bar(range(tags_number),size_tag.values())\n",
    "plt.xticks(range(tags_number),size_tag.keys(),rotation='vertical')\n",
    "plt.ylabel('number of papers')\n",
    "plt.show()"
   ]
  },
  {
   "cell_type": "code",
   "execution_count": null,
   "id": "considered-control",
   "metadata": {},
   "outputs": [],
   "source": []
  }
 ],
 "metadata": {
  "kernelspec": {
   "display_name": "Python [conda env:arxiv_env]",
   "language": "python",
   "name": "conda-env-arxiv_env-py"
  },
  "language_info": {
   "codemirror_mode": {
    "name": "ipython",
    "version": 3
   },
   "file_extension": ".py",
   "mimetype": "text/x-python",
   "name": "python",
   "nbconvert_exporter": "python",
   "pygments_lexer": "ipython3",
   "version": "3.7.9"
  }
 },
 "nbformat": 4,
 "nbformat_minor": 5
}
