{
 "cells": [
  {
   "cell_type": "code",
   "execution_count": 1,
   "id": "rapid-independence",
   "metadata": {},
   "outputs": [],
   "source": [
    "import os\n",
    "\n",
    "import pandas as pd\n",
    "import numpy as np\n",
    "import matplotlib.pyplot as plt\n",
    "\n",
    "from nltk.corpus import stopwords\n",
    "from nltk.stem import PorterStemmer\n",
    "\n",
    "import treelib\n",
    "\n",
    "from collections import Counter, defaultdict\n",
    "\n",
    "import arxiv_tag_lib as at"
   ]
  },
  {
   "cell_type": "markdown",
   "id": "scheduled-sport",
   "metadata": {},
   "source": [
    "# ArXiv Tagger\n",
    "\n",
    "Description of the project goes here...\n",
    "\n",
    "## Database creation\n",
    "\n",
    "Here we use the Nature metadata dataset to get the abstracts and keywords of the papers published on the publisher journal.\n",
    "\n",
    "Since this is a proof of principle project, we focus on a small part of all possible paper, namely those with a keyword contianing *field theory*, as the dataset seems to contain a moderate amount of these articles."
   ]
  },
  {
   "cell_type": "code",
   "execution_count": 3,
   "id": "coastal-playlist",
   "metadata": {},
   "outputs": [],
   "source": [
    "# Set the API key for accessing the database\n",
    "api_key = os.environ['SPRINGER_API_KEY']\n",
    "\n",
    "# Create the query and the dataset\n",
    "query = {'type':'Journal','keyword':\"field theory\"}\n",
    "df = at.create_dataframe(query,api_key)\n",
    "df.to_pickle('./dataset_field_theory.pkl')"
   ]
  },
  {
   "cell_type": "markdown",
   "id": "hollow-black",
   "metadata": {},
   "source": [
    "## Selecting the labels\n",
    "\n",
    "Contrary to how APS Journals work, the keywords used on Nature are not taken from a pre-defined set, and instead are assigned by the authors. A drowback of this is that there will be many different keywords and we'd like to select the most common to create the labels for our dataset.\n",
    "\n",
    "### Cleaning the keywords\n",
    "\n",
    "Let's start by cleaning up the keywords and getting an idea of the most common ones,"
   ]
  },
  {
   "cell_type": "code",
   "execution_count": 24,
   "id": "written-consent",
   "metadata": {},
   "outputs": [
    {
     "data": {
      "text/html": [
       "<div>\n",
       "<style scoped>\n",
       "    .dataframe tbody tr th:only-of-type {\n",
       "        vertical-align: middle;\n",
       "    }\n",
       "\n",
       "    .dataframe tbody tr th {\n",
       "        vertical-align: top;\n",
       "    }\n",
       "\n",
       "    .dataframe thead th {\n",
       "        text-align: right;\n",
       "    }\n",
       "</style>\n",
       "<table border=\"1\" class=\"dataframe\">\n",
       "  <thead>\n",
       "    <tr style=\"text-align: right;\">\n",
       "      <th></th>\n",
       "      <th>abstract</th>\n",
       "      <th>keywords</th>\n",
       "    </tr>\n",
       "  </thead>\n",
       "  <tbody>\n",
       "    <tr>\n",
       "      <th>18063</th>\n",
       "      <td>The LSZ asymptotic condition and the Yang-Feld...</td>\n",
       "      <td>[Neural Network, Statistical Physic, Field The...</td>\n",
       "    </tr>\n",
       "    <tr>\n",
       "      <th>18064</th>\n",
       "      <td>The mathematical formalism describing the Bose...</td>\n",
       "      <td>[Neural Network, Field Theory, Quantum Field T...</td>\n",
       "    </tr>\n",
       "    <tr>\n",
       "      <th>18065</th>\n",
       "      <td>We want to construct, for every local irreduci...</td>\n",
       "      <td>[Neural Network, Statistical Physic, Field The...</td>\n",
       "    </tr>\n",
       "    <tr>\n",
       "      <th>18066</th>\n",
       "      <td>It is proved that if the n -point correlation ...</td>\n",
       "      <td>[Neural Network, Statistical Physic, Field The...</td>\n",
       "    </tr>\n",
       "    <tr>\n",
       "      <th>18067</th>\n",
       "      <td>Electromagnetic tensor field can be divided in...</td>\n",
       "      <td>[Null Vector, Unify Field Theory, Electromagne...</td>\n",
       "    </tr>\n",
       "  </tbody>\n",
       "</table>\n",
       "</div>"
      ],
      "text/plain": [
       "                                                abstract  \\\n",
       "18063  The LSZ asymptotic condition and the Yang-Feld...   \n",
       "18064  The mathematical formalism describing the Bose...   \n",
       "18065  We want to construct, for every local irreduci...   \n",
       "18066  It is proved that if the n -point correlation ...   \n",
       "18067  Electromagnetic tensor field can be divided in...   \n",
       "\n",
       "                                                keywords  \n",
       "18063  [Neural Network, Statistical Physic, Field The...  \n",
       "18064  [Neural Network, Field Theory, Quantum Field T...  \n",
       "18065  [Neural Network, Statistical Physic, Field The...  \n",
       "18066  [Neural Network, Statistical Physic, Field The...  \n",
       "18067  [Null Vector, Unify Field Theory, Electromagne...  "
      ]
     },
     "execution_count": 24,
     "metadata": {},
     "output_type": "execute_result"
    }
   ],
   "source": [
    "df = pd.read_pickle('./dataset_field_theory.pkl')\n",
    "\n",
    "# Some paper have only one keyword that is saved outside a list\n",
    "df['keywords'] = df['keywords'].apply(lambda item : [item] if type(item) == str else item)\n",
    "\n",
    "df.tail()"
   ]
  },
  {
   "cell_type": "markdown",
   "id": "professional-reference",
   "metadata": {},
   "source": [
    "The number of different keywords is large, as we can see here,"
   ]
  },
  {
   "cell_type": "code",
   "execution_count": 25,
   "id": "precious-textbook",
   "metadata": {},
   "outputs": [
    {
     "data": {
      "text/plain": [
       "10765"
      ]
     },
     "execution_count": 25,
     "metadata": {},
     "output_type": "execute_result"
    }
   ],
   "source": [
    "tags = np.concatenate(df['keywords'].to_numpy())\n",
    "unique_tags = np.unique(tags)\n",
    "\n",
    "unique_tags.size"
   ]
  },
  {
   "cell_type": "markdown",
   "id": "eight-valuable",
   "metadata": {},
   "source": [
    "We might be able to slightly reduce the tags if we clean them up\n",
    "- set in lowercase\n",
    "- neglect non-alphanumeric words\n",
    "- stem and remove stopwords\n",
    "\n",
    "Then we get,"
   ]
  },
  {
   "cell_type": "code",
   "execution_count": 26,
   "id": "nonprofit-wyoming",
   "metadata": {},
   "outputs": [
    {
     "data": {
      "text/html": [
       "<div>\n",
       "<style scoped>\n",
       "    .dataframe tbody tr th:only-of-type {\n",
       "        vertical-align: middle;\n",
       "    }\n",
       "\n",
       "    .dataframe tbody tr th {\n",
       "        vertical-align: top;\n",
       "    }\n",
       "\n",
       "    .dataframe thead th {\n",
       "        text-align: right;\n",
       "    }\n",
       "</style>\n",
       "<table border=\"1\" class=\"dataframe\">\n",
       "  <thead>\n",
       "    <tr style=\"text-align: right;\">\n",
       "      <th></th>\n",
       "      <th>abstract</th>\n",
       "      <th>keywords</th>\n",
       "    </tr>\n",
       "  </thead>\n",
       "  <tbody>\n",
       "    <tr>\n",
       "      <th>18063</th>\n",
       "      <td>The LSZ asymptotic condition and the Yang-Feld...</td>\n",
       "      <td>[neural network, statist physic, field theori,...</td>\n",
       "    </tr>\n",
       "    <tr>\n",
       "      <th>18064</th>\n",
       "      <td>The mathematical formalism describing the Bose...</td>\n",
       "      <td>[neural network, field theori, quantum field t...</td>\n",
       "    </tr>\n",
       "    <tr>\n",
       "      <th>18065</th>\n",
       "      <td>We want to construct, for every local irreduci...</td>\n",
       "      <td>[neural network, statist physic, field theori,...</td>\n",
       "    </tr>\n",
       "    <tr>\n",
       "      <th>18066</th>\n",
       "      <td>It is proved that if the n -point correlation ...</td>\n",
       "      <td>[neural network, statist physic, field theori,...</td>\n",
       "    </tr>\n",
       "    <tr>\n",
       "      <th>18067</th>\n",
       "      <td>Electromagnetic tensor field can be divided in...</td>\n",
       "      <td>[null vector, unifi field theori, electromagne...</td>\n",
       "    </tr>\n",
       "  </tbody>\n",
       "</table>\n",
       "</div>"
      ],
      "text/plain": [
       "                                                abstract  \\\n",
       "18063  The LSZ asymptotic condition and the Yang-Feld...   \n",
       "18064  The mathematical formalism describing the Bose...   \n",
       "18065  We want to construct, for every local irreduci...   \n",
       "18066  It is proved that if the n -point correlation ...   \n",
       "18067  Electromagnetic tensor field can be divided in...   \n",
       "\n",
       "                                                keywords  \n",
       "18063  [neural network, statist physic, field theori,...  \n",
       "18064  [neural network, field theori, quantum field t...  \n",
       "18065  [neural network, statist physic, field theori,...  \n",
       "18066  [neural network, statist physic, field theori,...  \n",
       "18067  [null vector, unifi field theori, electromagne...  "
      ]
     },
     "execution_count": 26,
     "metadata": {},
     "output_type": "execute_result"
    }
   ],
   "source": [
    "# Select the stemmer and the corpus of stopwords\n",
    "ps = PorterStemmer()\n",
    "stp_en = stopwords.words('english')\n",
    "\n",
    "# clean the tags\n",
    "df['keywords'] = df['keywords'].apply(lambda item : at.clean_tags(item,ps,stp_en))\n",
    "df.tail()"
   ]
  },
  {
   "cell_type": "markdown",
   "id": "correct-parent",
   "metadata": {},
   "source": [
    "Let's check if we have indeed reduced a bit the number of tags,"
   ]
  },
  {
   "cell_type": "code",
   "execution_count": 27,
   "id": "hazardous-slide",
   "metadata": {},
   "outputs": [
    {
     "data": {
      "text/plain": [
       "9404"
      ]
     },
     "execution_count": 27,
     "metadata": {},
     "output_type": "execute_result"
    }
   ],
   "source": [
    "tags = np.concatenate(df['keywords'].to_numpy())\n",
    "unique_tags = np.unique(tags)\n",
    "\n",
    "unique_tags.size"
   ]
  },
  {
   "cell_type": "markdown",
   "id": "balanced-tradition",
   "metadata": {},
   "source": [
    "Let's check the most common tags, to get an idea of what we are dealing with,"
   ]
  },
  {
   "cell_type": "code",
   "execution_count": 28,
   "id": "perfect-professor",
   "metadata": {
    "scrolled": false
   },
   "outputs": [
    {
     "data": {
      "text/plain": [
       "[('field theori', 10159),\n",
       " ('elementari particl', 8981),\n",
       " ('quantum field theori', 8967),\n",
       " ('particl acceler', 1976),\n",
       " ('conform field theori', 1330),\n",
       " ('spectroscopi', 1257),\n",
       " ('effect field theori', 1118),\n",
       " ('state physic', 1077),\n",
       " ('ad cft correspond', 1053),\n",
       " ('field theori lower dimens', 872)]"
      ]
     },
     "execution_count": 28,
     "metadata": {},
     "output_type": "execute_result"
    }
   ],
   "source": [
    "tags = np.concatenate(df['keywords'].to_numpy())\n",
    "tags_frequency = Counter(tags)\n",
    "\n",
    "tags_frequency.most_common(10)"
   ]
  },
  {
   "cell_type": "markdown",
   "id": "driving-dispatch",
   "metadata": {},
   "source": [
    "It is clear that the first 3 tags (maybe even the 4th one) are a bit too general and we can probably remove them, since a lot of stuff falls broadly under these tags.\n",
    "\n",
    "### Creating a hierarchy of tags\n",
    "\n",
    "We now search for the important tags, and will restrict our dataset to the items that contains these tags. We do this by creating a tree of tags.\n",
    "\n",
    "We can additionally use the hierarchical nature of how tags are assigned in the Nature dataset to only focus on the leafs of the tree and label the corresponding items with their tag.\n",
    "\n",
    "**NOTE**: We move from a multi-label dataset to a multi-class one. This is not necessarily desirable and maybe in the future we'll try to go for a multi-label problem. For now, we try this approach to see how well we can still classify papers."
   ]
  },
  {
   "cell_type": "code",
   "execution_count": 29,
   "id": "printable-farmer",
   "metadata": {},
   "outputs": [
    {
     "name": "stdout",
     "output_type": "stream",
     "text": [
      "root\n",
      "├── conform field theori\n",
      "│   └── ad cft correspond\n",
      "├── dualiti gaug field theori\n",
      "├── effect field theori\n",
      "│   └── beyond standard model\n",
      "├── field theori higher dimens\n",
      "├── field theori lower dimens\n",
      "├── gaug theori\n",
      "├── integr field theori\n",
      "│   └── ad cft correspond\n",
      "├── neural network\n",
      "│   └── complex system\n",
      "│       └── statist physic\n",
      "├── quantum mechan\n",
      "└── spectroscopi\n",
      "    └── state physic\n",
      "\n"
     ]
    }
   ],
   "source": [
    "# Create the tags tree\n",
    "tags_tree = treelib.Tree()\n",
    "\n",
    "# List of tags to avoid (too many items link to them)\n",
    "avoid_tags=['field theori','elementari particl','quantum field theori','particl acceler']\n",
    "\n",
    "# Create the root node of the tree and build it\n",
    "root = tags_tree.create_node('root',data=df.copy())\n",
    "at.build_tag_tree(tags_tree,root.identifier,avoid_tags,min_size=250)\n",
    "\n",
    "# Show the tree\n",
    "tags_tree.show()"
   ]
  },
  {
   "cell_type": "markdown",
   "id": "northern-lover",
   "metadata": {},
   "source": [
    "Let's visualize the size of each class, to see if the problem is balanced or not,"
   ]
  },
  {
   "cell_type": "code",
   "execution_count": 30,
   "id": "capital-senegal",
   "metadata": {
    "scrolled": false
   },
   "outputs": [
    {
     "name": "stdout",
     "output_type": "stream",
     "text": [
      "We use 9 tags, for a grand total of 4696 items.\n"
     ]
    }
   ],
   "source": [
    "# Get the size of each class and the total size of the dataset we'll be left with\n",
    "size_tag = defaultdict(int)\n",
    "total_items = 0\n",
    "\n",
    "for node in tags_tree.leaves():\n",
    "    size_tag[node.tag] += node.data.shape[0]\n",
    "    total_items += node.data.shape[0]\n",
    "    \n",
    "tags_number = len(size_tag)\n",
    "\n",
    "# We can check how may instances of the same tags selected here are present in the full dataset\n",
    "full_df_size_tag = [tags_frequency[key] for key in size_tag.keys()]\n",
    "\n",
    "print('We use {} tags, for a grand total of {} items.'.format(tags_number,total_items))"
   ]
  },
  {
   "cell_type": "markdown",
   "id": "prerequisite-fourth",
   "metadata": {},
   "source": [
    "Before we visualize the classes, we'd like to check how many items in the original database contain the same labels. Notice that a single item might contain two or more of the keywords we are using, as they might overlap. \n",
    "\n",
    "Due to how we have constructed the tree of tags, we are dividing the items into non-overlapping categories (this might help avoiding having abstract too similar for different topics). However, by doing so we might be losing quite a few items. "
   ]
  },
  {
   "cell_type": "code",
   "execution_count": 31,
   "id": "civilian-spotlight",
   "metadata": {},
   "outputs": [
    {
     "data": {
      "image/png": "[encoded data removed]",
      "text/plain": [
       "<Figure size 432x288 with 1 Axes>"
      ]
     },
     "metadata": {
      "needs_background": "light"
     },
     "output_type": "display_data"
    }
   ],
   "source": [
    "# Visualize the classes size\n",
    "bar_width = 0.35\n",
    "positions = np.arange(tags_number)\n",
    "\n",
    "plt.bar(positions-bar_width/2,size_tag.values(),bar_width,label='new dataset')\n",
    "plt.bar(positions+bar_width/2,full_df_size_tag,bar_width,label='original dataset')\n",
    "\n",
    "plt.xticks(range(tags_number),size_tag.keys(),rotation='vertical')\n",
    "\n",
    "plt.ylabel('number of papers')\n",
    "\n",
    "plt.legend()\n",
    "plt.show()"
   ]
  },
  {
   "cell_type": "markdown",
   "id": "false-screening",
   "metadata": {},
   "source": [
    "We are losing something, but not so much really. Might need to keep an eye on the *AdS-CFT correspondence* tag.\n",
    "\n",
    "### Creating the dataset with fixed classes\n",
    "\n",
    "We can now create the dataset out of the classes we have selected. "
   ]
  },
  {
   "cell_type": "code",
   "execution_count": 44,
   "id": "differential-account",
   "metadata": {},
   "outputs": [],
   "source": [
    "df_tags = pd.DataFrame(columns=['abstract','keywords'])\n",
    "\n",
    "for node in tags_tree.leaves():\n",
    "    \n",
    "    df_node = node.data.copy()\n",
    "    df_node['keywords'] = node.tag\n",
    "    \n",
    "    df_tags = df_tags.append(df_node)\n",
    "\n",
    "df_tags.reset_index(drop=True,inplace=True)\n",
    "df_tags.to_pickle('./dataset_ft_classified.pkl')"
   ]
  },
  {
   "cell_type": "markdown",
   "id": "prescription-ballot",
   "metadata": {},
   "source": [
    "## Cleaning the abstracts\n",
    "\n",
    "We can now use standard NLP techniques to clean up the abstract field"
   ]
  },
  {
   "cell_type": "code",
   "execution_count": 46,
   "id": "contained-extreme",
   "metadata": {},
   "outputs": [
    {
     "data": {
      "text/html": [
       "<div>\n",
       "<style scoped>\n",
       "    .dataframe tbody tr th:only-of-type {\n",
       "        vertical-align: middle;\n",
       "    }\n",
       "\n",
       "    .dataframe tbody tr th {\n",
       "        vertical-align: top;\n",
       "    }\n",
       "\n",
       "    .dataframe thead th {\n",
       "        text-align: right;\n",
       "    }\n",
       "</style>\n",
       "<table border=\"1\" class=\"dataframe\">\n",
       "  <thead>\n",
       "    <tr style=\"text-align: right;\">\n",
       "      <th></th>\n",
       "      <th>abstract</th>\n",
       "      <th>keywords</th>\n",
       "    </tr>\n",
       "  </thead>\n",
       "  <tbody>\n",
       "    <tr>\n",
       "      <th>813</th>\n",
       "      <td>We propose quantum states for Little String Th...</td>\n",
       "      <td>field theori higher dimens</td>\n",
       "    </tr>\n",
       "    <tr>\n",
       "      <th>3608</th>\n",
       "      <td>We present a theoretical study of the ultrasho...</td>\n",
       "      <td>state physic</td>\n",
       "    </tr>\n",
       "    <tr>\n",
       "      <th>2014</th>\n",
       "      <td></td>\n",
       "      <td>quantum mechan</td>\n",
       "    </tr>\n",
       "    <tr>\n",
       "      <th>3614</th>\n",
       "      <td>Dynamics of double membrane films is investiga...</td>\n",
       "      <td>state physic</td>\n",
       "    </tr>\n",
       "    <tr>\n",
       "      <th>1407</th>\n",
       "      <td>We calculate the instanton partition function ...</td>\n",
       "      <td>dualiti gaug field theori</td>\n",
       "    </tr>\n",
       "    <tr>\n",
       "      <th>4240</th>\n",
       "      <td>We study three-point correlation functions of ...</td>\n",
       "      <td>ad cft correspond</td>\n",
       "    </tr>\n",
       "    <tr>\n",
       "      <th>897</th>\n",
       "      <td>All known interacting 6D superconformal field ...</td>\n",
       "      <td>field theori higher dimens</td>\n",
       "    </tr>\n",
       "  </tbody>\n",
       "</table>\n",
       "</div>"
      ],
      "text/plain": [
       "                                               abstract  \\\n",
       "813   We propose quantum states for Little String Th...   \n",
       "3608  We present a theoretical study of the ultrasho...   \n",
       "2014                                                      \n",
       "3614  Dynamics of double membrane films is investiga...   \n",
       "1407  We calculate the instanton partition function ...   \n",
       "4240  We study three-point correlation functions of ...   \n",
       "897   All known interacting 6D superconformal field ...   \n",
       "\n",
       "                        keywords  \n",
       "813   field theori higher dimens  \n",
       "3608                state physic  \n",
       "2014              quantum mechan  \n",
       "3614                state physic  \n",
       "1407   dualiti gaug field theori  \n",
       "4240           ad cft correspond  \n",
       "897   field theori higher dimens  "
      ]
     },
     "execution_count": 46,
     "metadata": {},
     "output_type": "execute_result"
    }
   ],
   "source": [
    "df_tags = pd.read_pickle('./dataset_ft_classified.pkl')\n",
    "df_tags.sample(n=7)"
   ]
  },
  {
   "cell_type": "code",
   "execution_count": 48,
   "id": "polar-gossip",
   "metadata": {},
   "outputs": [
    {
     "name": "stdout",
     "output_type": "stream",
     "text": [
      "<class 'pandas.core.frame.DataFrame'>\n",
      "RangeIndex: 4696 entries, 0 to 4695\n",
      "Data columns (total 2 columns):\n",
      " #   Column    Non-Null Count  Dtype \n",
      "---  ------    --------------  ----- \n",
      " 0   abstract  4696 non-null   object\n",
      " 1   keywords  4696 non-null   object\n",
      "dtypes: object(2)\n",
      "memory usage: 73.5+ KB\n"
     ]
    }
   ],
   "source": [
    "df_tags.info()"
   ]
  },
  {
   "cell_type": "code",
   "execution_count": null,
   "id": "coral-liability",
   "metadata": {},
   "outputs": [],
   "source": []
  }
 ],
 "metadata": {
  "kernelspec": {
   "display_name": "Python [conda env:arxiv_env]",
   "language": "python",
   "name": "conda-env-arxiv_env-py"
  },
  "language_info": {
   "codemirror_mode": {
    "name": "ipython",
    "version": 3
   },
   "file_extension": ".py",
   "mimetype": "text/x-python",
   "name": "python",
   "nbconvert_exporter": "python",
   "pygments_lexer": "ipython3",
   "version": "3.7.9"
  }
 },
 "nbformat": 4,
 "nbformat_minor": 5
}
